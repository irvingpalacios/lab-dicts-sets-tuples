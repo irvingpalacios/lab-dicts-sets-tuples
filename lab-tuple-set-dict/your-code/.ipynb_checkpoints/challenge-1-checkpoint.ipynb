{
 "cells": [
  {
   "cell_type": "markdown",
   "metadata": {},
   "source": [
    "## Challenge 1: Tuples\n",
    "\n",
    "#### Do you know you can create tuples with only one element?\n",
    "\n",
    "**In the cell below, define a variable `tup` with a single element `\"I\"`.**\n",
    "\n",
    "*Hint: you need to add a comma (`,`) after the single element.*"
   ]
  },
  {
   "cell_type": "code",
   "execution_count": 2,
   "metadata": {},
   "outputs": [],
   "source": [
    "# Your code here\n",
    "\n",
    "\n",
    "tup= (\"I\",)"
   ]
  },
  {
   "cell_type": "markdown",
   "metadata": {},
   "source": [
    "#### Print the type of `tup`. \n",
    "\n",
    "Make sure its type is correct (i.e. *tuple* instead of *str*)."
   ]
  },
  {
   "cell_type": "code",
   "execution_count": 3,
   "metadata": {},
   "outputs": [
    {
     "name": "stdout",
     "output_type": "stream",
     "text": [
      "<class 'tuple'>\n"
     ]
    }
   ],
   "source": [
    "# Your code here\n",
    "\n",
    "print(type(tup))\n"
   ]
  },
  {
   "cell_type": "markdown",
   "metadata": {},
   "source": [
    "#### Now try to append the following elements to `tup`. \n",
    "\n",
    "Are you able to do it? Explain.\n",
    "\n",
    "```\n",
    "\"r\", \"o\", \"n\", \"h\", \"a\", \"c\", \"k',\n",
    "```"
   ]
  },
  {
   "cell_type": "code",
   "execution_count": 4,
   "metadata": {},
   "outputs": [
    {
     "name": "stdout",
     "output_type": "stream",
     "text": [
      "list_tup= ['I', 'r', 'o', 'n', 'h', 'a', 'c', 'k']\n",
      "Then we convert the list to a tuple. We can apply the same method we are gonna apply to turn a tuple into a list\n",
      "('I', 'r', 'o', 'n', 'h', 'a', 'c', 'k')\n",
      "By definition we can´t, but there are always solutions.\n"
     ]
    }
   ],
   "source": [
    "# Your code here\n",
    "\n",
    "new_elements= [\"r\", \"o\", \"n\", \"h\", \"a\", \"c\", \"k\"]\n",
    "\n",
    "list_tup = [i for i in tup] + new_elements\n",
    "           \n",
    "print (\"list_tup=\",list_tup)\n",
    "\n",
    "print(\"Then we convert the list to a tuple. We can apply the same method we are gonna apply to turn a tuple into a list\")\n",
    "        \n",
    "print(tuple (list_tup))\n",
    "\n",
    "\n",
    "           \n",
    "##we can´t add elements to a tuple, instead of it we can creat a list to add them.\n",
    "\n",
    "\n",
    "# Your explanation here\n",
    "\n",
    "print(\"By definition we can´t, but there are always solutions.\")"
   ]
  },
  {
   "cell_type": "markdown",
   "metadata": {},
   "source": [
    "#### How about re-assign a new value to an existing tuple?\n",
    "\n",
    "Re-assign the following elements to `tup`. Are you able to do it? Explain.\n",
    "\n",
    "```\n",
    "\"I\", \"r\", \"o\", \"n\", \"h\", \"a\", \"c\", \"k\"\n",
    "```"
   ]
  },
  {
   "cell_type": "code",
   "execution_count": 5,
   "metadata": {},
   "outputs": [
    {
     "name": "stdout",
     "output_type": "stream",
     "text": [
      "('I', 'r', 'o', 'n', 'h', 'a', 'c', 'k')\n",
      "The same explanation I gave before\n"
     ]
    }
   ],
   "source": [
    "## Your code here\n",
    "\n",
    "##I think I did it in the last exercise \n",
    "\n",
    "print(tuple (list_tup))\n",
    "\n",
    "# Your explanation here\n",
    "\n",
    "\n",
    "print(\"The same explanation I gave before\")"
   ]
  },
  {
   "cell_type": "markdown",
   "metadata": {},
   "source": [
    "#### Split `tup` into `tup1` and `tup2` with 4 elements in each. \n",
    "\n",
    "`tup1` should be `(\"I\", \"r\", \"o\", \"n\")` and `tup2` should be `(\"h\", \"a\", \"c\", \"k\")`.\n",
    "\n",
    "*Hint: use positive index numbers for `tup1` assignment and use negative index numbers for `tup2` assignment. Positive index numbers count from the beginning whereas negative index numbers count from the end of the sequence.*\n",
    "\n",
    "Also print `tup1` and `tup2`."
   ]
  },
  {
   "cell_type": "code",
   "execution_count": 6,
   "metadata": {},
   "outputs": [
    {
     "name": "stdout",
     "output_type": "stream",
     "text": [
      "tup1= ('I', 'r', 'o', 'n')\n",
      "tup2= ('h', 'a', 'c', 'k')\n"
     ]
    }
   ],
   "source": [
    "# Your code here\n",
    "tup1=list_tup[0:4]\n",
    "tup2=list_tup[len(list_tup)-4:len(list_tup)]\n",
    "\n",
    "\n",
    "\n",
    "print(\"tup1=\",tuple(tup1))\n",
    "print(\"tup2=\",tuple(tup2))\n"
   ]
  },
  {
   "cell_type": "markdown",
   "metadata": {},
   "source": [
    "#### Add `tup1` and `tup2` into `tup3` using the `+` operator.\n",
    "\n",
    "Then print `tup3` and check if `tup3` equals to `tup`."
   ]
  },
  {
   "cell_type": "code",
   "execution_count": 8,
   "metadata": {},
   "outputs": [
    {
     "name": "stdout",
     "output_type": "stream",
     "text": [
      "('I', 'r', 'o', 'n', 'h', 'a', 'c', 'k')\n"
     ]
    }
   ],
   "source": [
    "##Your code here\n",
    "\n",
    "tup3= tup1+tup2\n",
    "\n",
    "print(tuple(tup3))\n"
   ]
  },
  {
   "cell_type": "markdown",
   "metadata": {},
   "source": [
    "#### Count the number of elements in `tup1` and `tup2`. Then add the two counts together and check if the sum is the same as the number of elements in `tup3`"
   ]
  },
  {
   "cell_type": "code",
   "execution_count": 9,
   "metadata": {},
   "outputs": [
    {
     "name": "stdout",
     "output_type": "stream",
     "text": [
      "the tuple 1 have 4 elements\n",
      "the tuple 2 have 4 elements\n",
      "the tuple 3 have 8 elements\n"
     ]
    }
   ],
   "source": [
    "# Your code here\n",
    "print(\"the tuple 1 have\", len(tup1), \"elements\")\n",
    "print(\"the tuple 2 have\", len(tup2), \"elements\")\n",
    "print(\"the tuple 3 have\", len(tup3), \"elements\")\n"
   ]
  },
  {
   "cell_type": "markdown",
   "metadata": {},
   "source": [
    "#### What is the index number of `\"h\"` in `tup3`?"
   ]
  },
  {
   "cell_type": "code",
   "execution_count": 10,
   "metadata": {},
   "outputs": [
    {
     "data": {
      "text/plain": [
       "4"
      ]
     },
     "execution_count": 10,
     "metadata": {},
     "output_type": "execute_result"
    }
   ],
   "source": [
    "# Your code here\n",
    "\n",
    "\n",
    "tup3.index(\"h\")\n"
   ]
  },
  {
   "cell_type": "markdown",
   "metadata": {},
   "source": [
    "#### Now, use a FOR loop to check whether each letter in the following list is present in `tup3`:\n",
    "\n",
    "```\n",
    "letters = [\"a\", \"b\", \"c\", \"d\", \"e\"]\n",
    "```\n",
    "\n",
    "For each letter you check, print `True` if it is present in `tup3` otherwise print `False`.\n",
    "\n",
    "*Hint: you only need to loop `letters`. You don't need to loop `tup3` because there is a Python operator `in` you can use. See [reference](https://stackoverflow.com/questions/17920147/how-to-check-if-a-tuple-contains-an-element-in-python).*"
   ]
  },
  {
   "cell_type": "code",
   "execution_count": 11,
   "metadata": {},
   "outputs": [
    {
     "name": "stdout",
     "output_type": "stream",
     "text": [
      "a True\n",
      "b False\n",
      "c True\n",
      "d False\n",
      "e False\n"
     ]
    }
   ],
   "source": [
    "# Your code here\n",
    "\n",
    "letters = ['a','b', 'c', 'd','e']\n",
    "for i in letters:\n",
    "    if i in tup3:\n",
    "        print(i,\"True\")\n",
    "    else:\n",
    "        print(i, \"False\")\n",
    "\n"
   ]
  },
  {
   "cell_type": "markdown",
   "metadata": {},
   "source": [
    "#### How many times does each letter in `letters` appear in `tup3`?\n",
    "\n",
    "Print out the number of occurrence of each letter."
   ]
  },
  {
   "cell_type": "code",
   "execution_count": 12,
   "metadata": {},
   "outputs": [
    {
     "name": "stdout",
     "output_type": "stream",
     "text": [
      "The letter a appears: 1\n",
      "The letter b appears: 0\n",
      "The letter c appears: 1\n",
      "The letter d appears: 0\n",
      "The letter e appears: 0\n"
     ]
    }
   ],
   "source": [
    "# Your code here\n",
    "\n",
    "\n",
    "\n",
    "print(\"The letter a appears:\", tup3.count('a'))\n",
    "print(\"The letter b appears:\", tup3.count('b'))\n",
    "print(\"The letter c appears:\", tup3.count('c'))\n",
    "print(\"The letter d appears:\", tup3.count('d'))\n",
    "print(\"The letter e appears:\", tup3.count('e'))\n"
   ]
  },
  {
   "cell_type": "code",
   "execution_count": null,
   "metadata": {},
   "outputs": [],
   "source": []
  }
 ],
 "metadata": {
  "kernelspec": {
   "display_name": "Python 3",
   "language": "python",
   "name": "python3"
  },
  "language_info": {
   "codemirror_mode": {
    "name": "ipython",
    "version": 3
   },
   "file_extension": ".py",
   "mimetype": "text/x-python",
   "name": "python",
   "nbconvert_exporter": "python",
   "pygments_lexer": "ipython3",
   "version": "3.9.2"
  }
 },
 "nbformat": 4,
 "nbformat_minor": 2
}
